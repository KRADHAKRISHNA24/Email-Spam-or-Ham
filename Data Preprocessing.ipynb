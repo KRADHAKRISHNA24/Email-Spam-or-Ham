{
 "cells": [
  {
   "cell_type": "code",
   "execution_count": 1,
   "id": "587a3c6a",
   "metadata": {},
   "outputs": [],
   "source": [
    "import pandas as pd"
   ]
  },
  {
   "cell_type": "code",
   "execution_count": 2,
   "id": "20b376ff",
   "metadata": {},
   "outputs": [],
   "source": [
    "df=pd.DataFrame([['i am Data SCientist'],['I am data Scientist'],['i am ml engineer']],columns=['text'])"
   ]
  },
  {
   "cell_type": "markdown",
   "id": "c90d0904",
   "metadata": {},
   "source": [
    "# Text Preprocessing"
   ]
  },
  {
   "cell_type": "markdown",
   "id": "3aebfe3d",
   "metadata": {},
   "source": [
    "## lower case"
   ]
  },
  {
   "cell_type": "code",
   "execution_count": 3,
   "id": "4c11dcea",
   "metadata": {},
   "outputs": [
    {
     "data": {
      "text/plain": [
       "0    i am data scientist\n",
       "1    i am data scientist\n",
       "2       i am ml engineer\n",
       "Name: text, dtype: object"
      ]
     },
     "execution_count": 3,
     "metadata": {},
     "output_type": "execute_result"
    }
   ],
   "source": [
    "df['text'].str.lower()"
   ]
  },
  {
   "cell_type": "code",
   "execution_count": 4,
   "id": "d41d17cf",
   "metadata": {
    "collapsed": true
   },
   "outputs": [
    {
     "name": "stdout",
     "output_type": "stream",
     "text": [
      "Collecting autocorrect\n",
      "  Downloading autocorrect-2.6.1.tar.gz (622 kB)\n",
      "     ---------------------------------------- 0.0/622.8 kB ? eta -:--:--\n",
      "      --------------------------------------- 10.2/622.8 kB ? eta -:--:--\n",
      "      --------------------------------------- 10.2/622.8 kB ? eta -:--:--\n",
      "     - ----------------------------------- 30.7/622.8 kB 262.6 kB/s eta 0:00:03\n",
      "     -- ---------------------------------- 41.0/622.8 kB 245.8 kB/s eta 0:00:03\n",
      "     ---- -------------------------------- 71.7/622.8 kB 357.2 kB/s eta 0:00:02\n",
      "     ------- ---------------------------- 122.9/622.8 kB 514.3 kB/s eta 0:00:01\n",
      "     ---------------------- --------------- 368.6/622.8 kB 1.3 MB/s eta 0:00:01\n",
      "     -------------------------------------- 622.8/622.8 kB 2.1 MB/s eta 0:00:00\n",
      "  Preparing metadata (setup.py): started\n",
      "  Preparing metadata (setup.py): finished with status 'done'\n",
      "Building wheels for collected packages: autocorrect\n",
      "  Building wheel for autocorrect (setup.py): started\n",
      "  Building wheel for autocorrect (setup.py): finished with status 'done'\n",
      "  Created wheel for autocorrect: filename=autocorrect-2.6.1-py3-none-any.whl size=622374 sha256=d895bc705430d0b4f00f6c2074e76d1c28a1ab9ef1964eec20854967356eef7f\n",
      "  Stored in directory: c:\\users\\g0d\\appdata\\local\\pip\\cache\\wheels\\5e\\90\\99\\807a5ad861ce5d22c3c299a11df8cba9f31524f23ae6e645cb\n",
      "Successfully built autocorrect\n",
      "Installing collected packages: autocorrect\n",
      "Successfully installed autocorrect-2.6.1\n",
      "Note: you may need to restart the kernel to use updated packages.\n"
     ]
    }
   ],
   "source": [
    "pip install autocorrect"
   ]
  },
  {
   "cell_type": "code",
   "execution_count": 5,
   "id": "0e3c7db7",
   "metadata": {},
   "outputs": [],
   "source": [
    "text='I am data analyst'"
   ]
  },
  {
   "cell_type": "code",
   "execution_count": 6,
   "id": "e6a98d2f",
   "metadata": {},
   "outputs": [],
   "source": [
    "import autocorrect"
   ]
  },
  {
   "cell_type": "markdown",
   "id": "da0e27f7",
   "metadata": {},
   "source": [
    "## Spelling correction"
   ]
  },
  {
   "cell_type": "code",
   "execution_count": 10,
   "id": "d4eb9489",
   "metadata": {},
   "outputs": [],
   "source": [
    "speller=autocorrect.Speller()"
   ]
  },
  {
   "cell_type": "code",
   "execution_count": 11,
   "id": "7c5e190b",
   "metadata": {},
   "outputs": [
    {
     "data": {
      "text/plain": [
       "'I am data analyst'"
      ]
     },
     "execution_count": 11,
     "metadata": {},
     "output_type": "execute_result"
    }
   ],
   "source": [
    "speller.autocorrect_sentence(text)"
   ]
  },
  {
   "cell_type": "code",
   "execution_count": 12,
   "id": "8041d226",
   "metadata": {},
   "outputs": [
    {
     "data": {
      "text/plain": [
       "'data'"
      ]
     },
     "execution_count": 12,
     "metadata": {},
     "output_type": "execute_result"
    }
   ],
   "source": [
    "speller.autocorrect_word('dala')"
   ]
  },
  {
   "cell_type": "code",
   "execution_count": 13,
   "id": "f76d2ccc",
   "metadata": {},
   "outputs": [
    {
     "data": {
      "text/plain": [
       "'warrior'"
      ]
     },
     "execution_count": 13,
     "metadata": {},
     "output_type": "execute_result"
    }
   ],
   "source": [
    "speller.autocorrect_word('warior')"
   ]
  },
  {
   "cell_type": "markdown",
   "id": "28cff67c",
   "metadata": {},
   "source": [
    "# Emoji"
   ]
  },
  {
   "cell_type": "code",
   "execution_count": 14,
   "id": "48d502b9",
   "metadata": {
    "collapsed": true
   },
   "outputs": [
    {
     "name": "stdout",
     "output_type": "stream",
     "text": [
      "Collecting emoji\n",
      "  Obtaining dependency information for emoji from https://files.pythonhosted.org/packages/e6/90/20ad30babfa8f2b5ab46281d8e17bdfdbb3ac294cda14d525b9c2d958846/emoji-2.12.1-py3-none-any.whl.metadata\n",
      "  Downloading emoji-2.12.1-py3-none-any.whl.metadata (5.4 kB)\n",
      "Requirement already satisfied: typing-extensions>=4.7.0 in c:\\users\\g0d\\anaconda3\\lib\\site-packages (from emoji) (4.7.1)\n",
      "Downloading emoji-2.12.1-py3-none-any.whl (431 kB)\n",
      "   ---------------------------------------- 0.0/431.4 kB ? eta -:--:--\n",
      "   ---------------------------------------- 0.0/431.4 kB ? eta -:--:--\n",
      "    --------------------------------------- 10.2/431.4 kB ? eta -:--:--\n",
      "   ----- --------------------------------- 61.4/431.4 kB 656.4 kB/s eta 0:00:01\n",
      "   -------------------- ------------------- 225.3/431.4 kB 2.0 MB/s eta 0:00:01\n",
      "   ---------------------------------------- 431.4/431.4 kB 3.0 MB/s eta 0:00:00\n",
      "Installing collected packages: emoji\n",
      "Successfully installed emoji-2.12.1\n",
      "Note: you may need to restart the kernel to use updated packages.\n"
     ]
    }
   ],
   "source": [
    "pip install emoji"
   ]
  },
  {
   "cell_type": "code",
   "execution_count": 15,
   "id": "734e52fb",
   "metadata": {},
   "outputs": [],
   "source": [
    "import emoji"
   ]
  },
  {
   "cell_type": "code",
   "execution_count": 16,
   "id": "51080906",
   "metadata": {},
   "outputs": [],
   "source": [
    "text='I love biryani😍'"
   ]
  },
  {
   "cell_type": "code",
   "execution_count": 30,
   "id": "44ebdfce",
   "metadata": {},
   "outputs": [
    {
     "data": {
      "text/plain": [
       "'I love to watch movie.are you coming to movie? # klaki'"
      ]
     },
     "execution_count": 30,
     "metadata": {},
     "output_type": "execute_result"
    }
   ],
   "source": [
    "emoji.demojize(text).replace(':',' ')   # by default \":\" has been inplace of emoji what ever you have to relace in between emoji and text that should be in \" \""
   ]
  },
  {
   "cell_type": "markdown",
   "id": "71a9b36f",
   "metadata": {},
   "source": [
    "# Punctuations"
   ]
  },
  {
   "cell_type": "code",
   "execution_count": 22,
   "id": "9c99f107",
   "metadata": {},
   "outputs": [],
   "source": [
    "text='I love to watch movie.are you coming to movie? # klaki'"
   ]
  },
  {
   "cell_type": "code",
   "execution_count": 23,
   "id": "a815fcbb",
   "metadata": {},
   "outputs": [],
   "source": [
    "import re"
   ]
  },
  {
   "cell_type": "code",
   "execution_count": 28,
   "id": "48aa1cbc",
   "metadata": {},
   "outputs": [
    {
     "data": {
      "text/plain": [
       "'                     .                       ? #      '"
      ]
     },
     "execution_count": 28,
     "metadata": {},
     "output_type": "execute_result"
    }
   ],
   "source": [
    "re.sub(r'[a-zA-Z0-9]',' ',text)  #^ with out cap only the punctuatons are goint to be printed"
   ]
  },
  {
   "cell_type": "code",
   "execution_count": 29,
   "id": "5c2deb54",
   "metadata": {},
   "outputs": [
    {
     "data": {
      "text/plain": [
       "'I love to watch movie are you coming to movie    klaki'"
      ]
     },
     "execution_count": 29,
     "metadata": {},
     "output_type": "execute_result"
    }
   ],
   "source": [
    "re.sub(r'[^a-zA-Z0-9]',' ',text)  #^ with  cap all the punctuatons are removed"
   ]
  },
  {
   "cell_type": "code",
   "execution_count": 33,
   "id": "457ec11a",
   "metadata": {},
   "outputs": [],
   "source": [
    "text='''<!DOCTYPE html>\n",
    "<html lang=\"en\">\n",
    "<head>\n",
    "    <meta charset=\"UTF-8\">\n",
    "    <meta name=\"viewport\" content=\"width=device-width, initial-scale=1.0\">\n",
    "    <title>Text Preprocessing Example</title>\n",
    "</head>\n",
    "<body>\n",
    "\n",
    "    <h1>HTML Tags for Text Preprocessing</h1>\n",
    "\n",
    "    <p>This is a paragraph with <strong>strong</strong> and <em>emphasized</em> text.</p>\n",
    "\n",
    "    <h2>Lists:</h2>\n",
    "\n",
    "    <ul>\n",
    "        <li>Unordered list item 1</li>\n",
    "        <li>Unordered list item 2</li>\n",
    "        <li>Unordered list item 3</li>\n",
    "    </ul>\n",
    "\n",
    "    <ol>\n",
    "        <li>Ordered list item 1</li>\n",
    "        <li>Ordered list item 2</li>\n",
    "        <li>Ordered list item 3</li>\n",
    "    </ol>\n",
    "\n",
    "    <h2>Links and Images:</h2>\n",
    "\n",
    "    <p>Visit <a href=\"https://example.com\">Example Website</a>.</p>\n",
    "\n",
    "    <img src=\"https://via.placeholder.com/150\" alt=\"Placeholder Image\">\n",
    "\n",
    "    <h2>Tables:</h2>\n",
    "\n",
    "    <table border=\"1\">\n",
    "        <tr>\n",
    "            <th>Header 1</th>\n",
    "            <th>Header 2</th>\n",
    "        </tr>\n",
    "        <tr>\n",
    "            <td>Row 1, Cell 1</td>\n",
    "            <td>Row 1, Cell 2</td>\n",
    "        </tr>\n",
    "        <tr>\n",
    "            <td>Row 2, Cell 1</td>\n",
    "            <td>Row 2, Cell 2</td>\n",
    "        </tr>\n",
    "    </table>\n",
    "\n",
    "    <h2>Divisions and Sections:</h2>\n",
    "\n",
    "    <div>\n",
    "        <p>This is content inside a division.</p>\n",
    "    </div>\n",
    "\n",
    "    <hr>\n",
    "\n",
    "    <p>End of the text preprocessing example.</p>\n",
    "\n",
    "</body>\n",
    "</html>'''"
   ]
  },
  {
   "cell_type": "code",
   "execution_count": 35,
   "id": "42b962e2",
   "metadata": {},
   "outputs": [
    {
     "name": "stdout",
     "output_type": "stream",
     "text": [
      " \n",
      " \n",
      " \n",
      "     \n",
      "     \n",
      "     Text Preprocessing Example \n",
      " \n",
      " \n",
      "\n",
      "     HTML Tags for Text Preprocessing \n",
      "\n",
      "     This is a paragraph with  strong  and  emphasized  text. \n",
      "\n",
      "     Lists: \n",
      "\n",
      "     \n",
      "         Unordered list item 1 \n",
      "         Unordered list item 2 \n",
      "         Unordered list item 3 \n",
      "     \n",
      "\n",
      "     \n",
      "         Ordered list item 1 \n",
      "         Ordered list item 2 \n",
      "         Ordered list item 3 \n",
      "     \n",
      "\n",
      "     Links and Images: \n",
      "\n",
      "     Visit  Example Website . \n",
      "\n",
      "     \n",
      "\n",
      "     Tables: \n",
      "\n",
      "     \n",
      "         \n",
      "             Header 1 \n",
      "             Header 2 \n",
      "         \n",
      "         \n",
      "             Row 1, Cell 1 \n",
      "             Row 1, Cell 2 \n",
      "         \n",
      "         \n",
      "             Row 2, Cell 1 \n",
      "             Row 2, Cell 2 \n",
      "         \n",
      "     \n",
      "\n",
      "     Divisions and Sections: \n",
      "\n",
      "     \n",
      "         This is content inside a division. \n",
      "     \n",
      "\n",
      "     \n",
      "\n",
      "     End of the text preprocessing example. \n",
      "\n",
      " \n",
      " \n"
     ]
    }
   ],
   "source": [
    "print(re.sub(r'<[^>]+>',' ',text))"
   ]
  },
  {
   "cell_type": "markdown",
   "id": "90969f3b",
   "metadata": {},
   "source": [
    "# Chat words"
   ]
  },
  {
   "cell_type": "code",
   "execution_count": 46,
   "id": "87a8402d",
   "metadata": {},
   "outputs": [],
   "source": [
    "chat={\n",
    "    \"u\": \"you\",\n",
    "    \"r\": \"are\",\n",
    "    \"ur\": \"your\",\n",
    "    \"pls\": \"please\",\n",
    "    \"plz\": \"please\",\n",
    "    \"btw\": \"by the way\",\n",
    "    \"omg\": \"oh my god\",\n",
    "    \"lol\": \"laugh out loud\",\n",
    "    \"brb\": \"be right back\",\n",
    "    \"gtg\": \"got to go\",\n",
    "    \"idk\": \"I don't know\",\n",
    "    \"imo\": \"in my opinion\",\n",
    "    \"imho\": \"in my humble opinion\",\n",
    "    \"b4\": \"before\",\n",
    "    \"gr8\": \"great\",\n",
    "    \"l8r\": \"later\",\n",
    "    \"thx\": \"thanks\",\n",
    "    \"yw\": \"you're welcome\",\n",
    "    \"np\": \"no problem\",\n",
    "    \"w/\": \"with\",\n",
    "    \"w/o\": \"without\",\n",
    "    \"bc\": \"because\",\n",
    "    \"b/c\": \"because\",\n",
    "    \"sry\": \"sorry\",\n",
    "    \"thx\": \"thanks\",\n",
    "    \"tbh\": \"to be honest\",\n",
    "    \"dm\": \"direct message\",\n",
    "    \"fb\": \"Facebook\",\n",
    "    \"ig\": \"Instagram\",\n",
    "    \"jk\": \"just kidding\",\n",
    "    \"lmao\": \"laughing my ass off\",\n",
    "    \"np\": \"no problem\",\n",
    "    \"nvm\": \"never mind\",\n",
    "    \"omw\": \"on my way\",\n",
    "    \"rofl\": \"rolling on the floor laughing\",\n",
    "    \"smh\": \"shaking my head\",\n",
    "    \"tbt\": \"throwback Thursday\",\n",
    "    \"ttyl\": \"talk to you later\",\n",
    "    \"wbu\": \"what about you\",\n",
    "    \"wth\": \"what the heck\",\n",
    "    \"yolo\": \"you only live once\",\n",
    "    \"afk\": \"away from keyboard\",\n",
    "    \"bbl\": \"be back later\",\n",
    "    \"bf\": \"boyfriend\",\n",
    "    \"gf\": \"girlfriend\",\n",
    "    \"cu\": \"see you\",\n",
    "    \"ily\": \"I love you\",\n",
    "    \"imo\": \"in my opinion\",\n",
    "    \"lmk\": \"let me know\",\n",
    "    \"nm\": \"not much\",\n",
    "    \"omw\": \"on my way\",\n",
    "    \"ppl\": \"people\",\n",
    "    \"tmi\": \"too much information\",\n",
    "    \"w/e\": \"whatever\",\n",
    "    \"wyd\": \"what are you doing\",\n",
    "    \"xoxo\": \"hugs and kisses\",\n",
    "    \"ty\": \"thank you\",\n",
    "    \"kk\": \"okay\",\n",
    "    \"bcuz\": \"because\",\n",
    "    \"bt\": \"but\",\n",
    "    \"ikr\": \"I know, right\",\n",
    "    \"thru\": \"through\",\n",
    "    \"txt\": \"text\",\n",
    "    \"hv\": \"have\",\n",
    "    \"2day\": \"today\",\n",
    "    \"2moro\": \"tomorrow\",\n",
    "    \"bday\": \"birthday\",\n",
    "    \"fyi\": \"for your information\",\n",
    "    \"gr8\": \"great\",\n",
    "    \"luv\": \"love\",\n",
    "    \"msg\": \"message\",\n",
    "    \"ppl\": \"people\",\n",
    "    \"rly\": \"really\",\n",
    "    \"sec\": \"second\",\n",
    "    \"sux\": \"sucks\",\n",
    "    \"thx\": \"thanks\",\n",
    "    \"u2\": \"you too\",\n",
    "    \"y\": \"why\"\n",
    "}\n"
   ]
  },
  {
   "cell_type": "code",
   "execution_count": 47,
   "id": "c66f1dcf",
   "metadata": {},
   "outputs": [],
   "source": [
    "text='omg ty so much'"
   ]
  },
  {
   "cell_type": "code",
   "execution_count": 50,
   "id": "7781a54d",
   "metadata": {},
   "outputs": [
    {
     "name": "stdout",
     "output_type": "stream",
     "text": [
      "oh my god thank you so much\n"
     ]
    }
   ],
   "source": [
    "for i in text.split():\n",
    "    if i in chat.keys():\n",
    "        text=text.replace(i,chat[i])\n",
    "print(text)"
   ]
  },
  {
   "cell_type": "code",
   "execution_count": 51,
   "id": "e577929b",
   "metadata": {},
   "outputs": [
    {
     "data": {
      "text/plain": [
       "'why'"
      ]
     },
     "execution_count": 51,
     "metadata": {},
     "output_type": "execute_result"
    }
   ],
   "source": [
    "chat['y']"
   ]
  },
  {
   "cell_type": "code",
   "execution_count": 52,
   "id": "988bd5f0",
   "metadata": {},
   "outputs": [
    {
     "data": {
      "text/plain": [
       "'just kidding'"
      ]
     },
     "execution_count": 52,
     "metadata": {},
     "output_type": "execute_result"
    }
   ],
   "source": [
    "chat['jk']"
   ]
  },
  {
   "cell_type": "code",
   "execution_count": 53,
   "id": "f0b4e306",
   "metadata": {},
   "outputs": [],
   "source": [
    "sample_text = \"\"\"Check out this amazing website: https://www.example.com. \n",
    "                 Visit our blog at http://blog.example.org for the latest updates.\n",
    "                 Follow us on social media: Facebook (https://www.facebook.com/example),\n",
    "                 Twitter (https://twitter.com/example), and Instagram (https://www.instagram.com/example).\n",
    "              \"\"\""
   ]
  },
  {
   "cell_type": "code",
   "execution_count": 56,
   "id": "4963b0bb",
   "metadata": {},
   "outputs": [
    {
     "name": "stdout",
     "output_type": "stream",
     "text": [
      "Check out this amazing website:   \n",
      "                 Visit our blog at   for the latest updates.\n",
      "                 Follow us on social media: Facebook ( \n",
      "                 Twitter (  and Instagram ( \n",
      "              \n"
     ]
    }
   ],
   "source": [
    "print(re.sub(r'www.\\S+|https?://\\S+',' ',sample_text))"
   ]
  },
  {
   "cell_type": "markdown",
   "id": "ff71666d",
   "metadata": {},
   "source": [
    "# Digits"
   ]
  },
  {
   "cell_type": "code",
   "execution_count": 57,
   "id": "91521e94",
   "metadata": {},
   "outputs": [],
   "source": [
    "text='I have 20 rupees'"
   ]
  },
  {
   "cell_type": "code",
   "execution_count": 58,
   "id": "c4b8636f",
   "metadata": {},
   "outputs": [
    {
     "data": {
      "text/plain": [
       "'I have    rupees'"
      ]
     },
     "execution_count": 58,
     "metadata": {},
     "output_type": "execute_result"
    }
   ],
   "source": [
    "re.sub(r'[0-9]',' ',text)"
   ]
  },
  {
   "cell_type": "code",
   "execution_count": 61,
   "id": "5c8f51c9",
   "metadata": {},
   "outputs": [
    {
     "data": {
      "text/plain": [
       "'20'"
      ]
     },
     "execution_count": 61,
     "metadata": {},
     "output_type": "execute_result"
    }
   ],
   "source": [
    "re.sub(r'[^0-9]','',text)"
   ]
  },
  {
   "cell_type": "markdown",
   "id": "5b29b4cb",
   "metadata": {},
   "source": [
    "# Tokenization"
   ]
  },
  {
   "cell_type": "code",
   "execution_count": 64,
   "id": "f6490139",
   "metadata": {},
   "outputs": [],
   "source": [
    "import nltk"
   ]
  },
  {
   "cell_type": "code",
   "execution_count": 72,
   "id": "220a07f5",
   "metadata": {},
   "outputs": [
    {
     "name": "stderr",
     "output_type": "stream",
     "text": [
      "[nltk_data] Downloading package punkt to\n",
      "[nltk_data]     C:\\Users\\G0d\\AppData\\Roaming\\nltk_data...\n",
      "[nltk_data]   Unzipping tokenizers\\punkt.zip.\n"
     ]
    },
    {
     "data": {
      "text/plain": [
       "True"
      ]
     },
     "execution_count": 72,
     "metadata": {},
     "output_type": "execute_result"
    }
   ],
   "source": [
    "nltk.download('punkt')"
   ]
  },
  {
   "cell_type": "code",
   "execution_count": 73,
   "id": "e6a88652",
   "metadata": {},
   "outputs": [],
   "source": [
    "from nltk.tokenize import word_tokenize,sent_tokenize"
   ]
  },
  {
   "cell_type": "code",
   "execution_count": 81,
   "id": "40fcaa88",
   "metadata": {},
   "outputs": [],
   "source": [
    "text='I love python.It is very easy'"
   ]
  },
  {
   "cell_type": "code",
   "execution_count": 75,
   "id": "7747ffc2",
   "metadata": {},
   "outputs": [
    {
     "data": {
      "text/plain": [
       "['I', 'love', 'python.It', 'is', 'very', 'easy']"
      ]
     },
     "execution_count": 75,
     "metadata": {},
     "output_type": "execute_result"
    }
   ],
   "source": [
    "text.split()"
   ]
  },
  {
   "cell_type": "code",
   "execution_count": 76,
   "id": "f32d74b7",
   "metadata": {},
   "outputs": [
    {
     "data": {
      "text/plain": [
       "['I', 'love', 'python.It', 'is', 'very', 'easy']"
      ]
     },
     "execution_count": 76,
     "metadata": {},
     "output_type": "execute_result"
    }
   ],
   "source": [
    "word_tokenize(text)"
   ]
  },
  {
   "cell_type": "code",
   "execution_count": 77,
   "id": "e72cd77f",
   "metadata": {},
   "outputs": [
    {
     "data": {
      "text/plain": [
       "['I love python.It is very easy']"
      ]
     },
     "execution_count": 77,
     "metadata": {},
     "output_type": "execute_result"
    }
   ],
   "source": [
    "sent_tokenize(text)"
   ]
  },
  {
   "cell_type": "code",
   "execution_count": 83,
   "id": "3d6f42b5",
   "metadata": {},
   "outputs": [],
   "source": [
    "text=re.sub(r'[^a-zA-Z0-9]',' ',text)"
   ]
  },
  {
   "cell_type": "code",
   "execution_count": 84,
   "id": "47f1c7e1",
   "metadata": {},
   "outputs": [
    {
     "data": {
      "text/plain": [
       "['I', 'love', 'python', 'It', 'is', 'very', 'easy']"
      ]
     },
     "execution_count": 84,
     "metadata": {},
     "output_type": "execute_result"
    }
   ],
   "source": [
    "word_tokenize(text)"
   ]
  },
  {
   "cell_type": "markdown",
   "id": "3deff2a3",
   "metadata": {},
   "source": [
    "# Stop words"
   ]
  },
  {
   "cell_type": "code",
   "execution_count": 99,
   "id": "8bf7590b",
   "metadata": {},
   "outputs": [],
   "source": [
    "from nltk.corpus import stopwords"
   ]
  },
  {
   "cell_type": "code",
   "execution_count": 103,
   "id": "df1f8a93",
   "metadata": {
    "collapsed": true
   },
   "outputs": [
    {
     "name": "stderr",
     "output_type": "stream",
     "text": [
      "[nltk_data] Downloading package stopwords to\n",
      "[nltk_data]     C:\\Users\\G0d\\AppData\\Roaming\\nltk_data...\n",
      "[nltk_data]   Unzipping corpora\\stopwords.zip.\n"
     ]
    },
    {
     "data": {
      "text/plain": [
       "True"
      ]
     },
     "execution_count": 103,
     "metadata": {},
     "output_type": "execute_result"
    }
   ],
   "source": [
    "nltk.download('stopwords')"
   ]
  },
  {
   "cell_type": "code",
   "execution_count": 106,
   "id": "02b88997",
   "metadata": {},
   "outputs": [
    {
     "data": {
      "text/plain": [
       "179"
      ]
     },
     "execution_count": 106,
     "metadata": {},
     "output_type": "execute_result"
    }
   ],
   "source": [
    "len(stopwords.words('english'))"
   ]
  },
  {
   "cell_type": "code",
   "execution_count": null,
   "id": "9996ff94",
   "metadata": {},
   "outputs": [],
   "source": []
  },
  {
   "cell_type": "markdown",
   "id": "76625939",
   "metadata": {},
   "source": [
    "# Stemming"
   ]
  },
  {
   "cell_type": "code",
   "execution_count": 86,
   "id": "a23eda2c",
   "metadata": {},
   "outputs": [],
   "source": [
    "from nltk.stem import PorterStemmer"
   ]
  },
  {
   "cell_type": "code",
   "execution_count": 87,
   "id": "47898c67",
   "metadata": {},
   "outputs": [],
   "source": [
    "stem=PorterStemmer()"
   ]
  },
  {
   "cell_type": "code",
   "execution_count": 88,
   "id": "c1f43e1d",
   "metadata": {},
   "outputs": [
    {
     "data": {
      "text/plain": [
       "'walk'"
      ]
     },
     "execution_count": 88,
     "metadata": {},
     "output_type": "execute_result"
    }
   ],
   "source": [
    "stem.stem('walking')  #it removes the prefix and suffix"
   ]
  },
  {
   "cell_type": "code",
   "execution_count": 89,
   "id": "bc5d2da9",
   "metadata": {},
   "outputs": [
    {
     "data": {
      "text/plain": [
       "'have'"
      ]
     },
     "execution_count": 89,
     "metadata": {},
     "output_type": "execute_result"
    }
   ],
   "source": [
    "stem.stem('having')"
   ]
  },
  {
   "cell_type": "code",
   "execution_count": 92,
   "id": "43145dca",
   "metadata": {},
   "outputs": [
    {
     "data": {
      "text/plain": [
       "'beauti'"
      ]
     },
     "execution_count": 92,
     "metadata": {},
     "output_type": "execute_result"
    }
   ],
   "source": [
    "stem.stem('beautifully')"
   ]
  },
  {
   "cell_type": "code",
   "execution_count": 93,
   "id": "c838448b",
   "metadata": {},
   "outputs": [
    {
     "data": {
      "text/plain": [
       "'natur'"
      ]
     },
     "execution_count": 93,
     "metadata": {},
     "output_type": "execute_result"
    }
   ],
   "source": [
    "stem.stem(\"Naturally\")"
   ]
  },
  {
   "cell_type": "markdown",
   "id": "6ac27ed4",
   "metadata": {},
   "source": [
    "# Lemmatization"
   ]
  },
  {
   "cell_type": "code",
   "execution_count": 96,
   "id": "f15a33e3",
   "metadata": {},
   "outputs": [],
   "source": [
    "from nltk.stem import WordNetLemmatizer"
   ]
  },
  {
   "cell_type": "code",
   "execution_count": 97,
   "id": "d9ed045c",
   "metadata": {},
   "outputs": [],
   "source": [
    "lemma=WordNetLemmatizer()   #it gives ther dictionary words"
   ]
  },
  {
   "cell_type": "code",
   "execution_count": 108,
   "id": "4fcea253",
   "metadata": {
    "collapsed": true
   },
   "outputs": [
    {
     "name": "stderr",
     "output_type": "stream",
     "text": [
      "[nltk_data] Downloading package wordnet to\n",
      "[nltk_data]     C:\\Users\\G0d\\AppData\\Roaming\\nltk_data...\n"
     ]
    },
    {
     "data": {
      "text/plain": [
       "True"
      ]
     },
     "execution_count": 108,
     "metadata": {},
     "output_type": "execute_result"
    }
   ],
   "source": [
    "nltk.download('wordnet')"
   ]
  },
  {
   "cell_type": "code",
   "execution_count": 110,
   "id": "2b508450",
   "metadata": {},
   "outputs": [
    {
     "data": {
      "text/plain": [
       "'walk'"
      ]
     },
     "execution_count": 110,
     "metadata": {},
     "output_type": "execute_result"
    }
   ],
   "source": [
    "lemma.lemmatize('walk')"
   ]
  },
  {
   "cell_type": "code",
   "execution_count": null,
   "id": "b6eb4643",
   "metadata": {},
   "outputs": [],
   "source": []
  }
 ],
 "metadata": {
  "kernelspec": {
   "display_name": "Python 3 (ipykernel)",
   "language": "python",
   "name": "python3"
  },
  "language_info": {
   "codemirror_mode": {
    "name": "ipython",
    "version": 3
   },
   "file_extension": ".py",
   "mimetype": "text/x-python",
   "name": "python",
   "nbconvert_exporter": "python",
   "pygments_lexer": "ipython3",
   "version": "3.11.5"
  }
 },
 "nbformat": 4,
 "nbformat_minor": 5
}
